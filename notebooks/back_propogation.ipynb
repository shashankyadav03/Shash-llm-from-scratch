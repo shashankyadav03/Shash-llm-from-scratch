{
 "cells": [
  {
   "cell_type": "code",
   "execution_count": 1,
   "metadata": {},
   "outputs": [],
   "source": [
    "import math\n",
    "import numpy as np\n",
    "import matplotlib.pyplot as plt\n",
    "%matplotlib inline\n",
    "from graphviz import Digraph"
   ]
  },
  {
   "cell_type": "code",
   "execution_count": 2,
   "metadata": {},
   "outputs": [],
   "source": [
    "def sigmoid(x):\n",
    "    return 1 / (1 + np.exp(-x))"
   ]
  },
  {
   "cell_type": "code",
   "execution_count": 3,
   "metadata": {},
   "outputs": [
    {
     "data": {
      "text/plain": [
       "np.float64(0.9525741268224334)"
      ]
     },
     "execution_count": 3,
     "metadata": {},
     "output_type": "execute_result"
    }
   ],
   "source": [
    "sigmoid(3)"
   ]
  },
  {
   "cell_type": "code",
   "execution_count": 4,
   "metadata": {},
   "outputs": [
    {
     "data": {
      "text/plain": [
       "[<matplotlib.lines.Line2D at 0x12671c9b0>]"
      ]
     },
     "execution_count": 4,
     "metadata": {},
     "output_type": "execute_result"
    },
    {
     "data": {
      "image/png": "[encoded data removed]",
      "text/plain": [
       "<Figure size 640x480 with 1 Axes>"
      ]
     },
     "metadata": {},
     "output_type": "display_data"
    }
   ],
   "source": [
    "xs = np.arange(-10, 10, 1)\n",
    "ys = sigmoid(xs)\n",
    "plt.plot(xs, ys)"
   ]
  },
  {
   "cell_type": "code",
   "execution_count": 5,
   "metadata": {},
   "outputs": [
    {
     "data": {
      "text/plain": [
       "np.float64(0.24999999999053554)"
      ]
     },
     "execution_count": 5,
     "metadata": {},
     "output_type": "execute_result"
    }
   ],
   "source": [
    "h=0.00001\n",
    "x = 0\n",
    "d = (sigmoid(x+h) - sigmoid(x)) / h\n",
    "d"
   ]
  },
  {
   "cell_type": "code",
   "execution_count": 56,
   "metadata": {},
   "outputs": [],
   "source": [
    "class Value:\n",
    "    def __init__(self,data, _children=(), _op=''):\n",
    "        self.data = data\n",
    "        self.grad = 0.0\n",
    "        self._prev = set(_children)\n",
    "        self._op = _op\n",
    "    \n",
    "    def __repr__(self) -> str:\n",
    "        return f\"Value({self.data})\"\n",
    "    \n",
    "    def __add__(self, other_value):\n",
    "        return Value(self.data + other_value.data, (self, other_value), '+')\n",
    "    \n",
    "    def __mul__(self, other_value):\n",
    "        return Value(self.data * other_value.data, (self, other_value), '*')\n",
    "        "
   ]
  },
  {
   "cell_type": "code",
   "execution_count": 72,
   "metadata": {},
   "outputs": [],
   "source": [
    "a = Value(2)\n",
    "b = Value(-3)\n",
    "c = Value(10)\n",
    "e = a * b \n",
    "d = e + c \n",
    "f = Value(-2)\n",
    "L = d * f"
   ]
  },
  {
   "cell_type": "code",
   "execution_count": 84,
   "metadata": {},
   "outputs": [
    {
     "data": {
      "text/plain": [
       "{Value(-2), Value(4)}"
      ]
     },
     "execution_count": 84,
     "metadata": {},
     "output_type": "execute_result"
    }
   ],
   "source": [
    "L._prev # (a, b, c)"
   ]
  },
  {
   "cell_type": "code",
   "execution_count": 85,
   "metadata": {},
   "outputs": [],
   "source": [
    "def trace(root):\n",
    "    nodes, edges = set(), set()\n",
    "    def build(v):\n",
    "        if v not in nodes:\n",
    "            nodes.add(v)\n",
    "            for child in v._prev:\n",
    "                edges.add((child, v))\n",
    "                build(child)\n",
    "    build(root)\n",
    "    return nodes, edges\n",
    "\n",
    "def draw_dot(root, format='svg', rankdir='LR'):\n",
    "    \"\"\"\n",
    "    format: png | svg | ...\n",
    "    rankdir: TB (top to bottom graph) | LR (left to right)\n",
    "    \"\"\"\n",
    "    assert rankdir in ['LR', 'TB']\n",
    "    nodes, edges = trace(root)\n",
    "    dot = Digraph(format=format, graph_attr={'rankdir': rankdir}) #, node_attr={'rankdir': 'TB'})\n",
    "    \n",
    "    for n in nodes:\n",
    "        dot.node(name=str(id(n)), label = \"{ data %.4f | grad %.4f }\" % (n.data, n.grad), shape='record')\n",
    "        if n._op:\n",
    "            dot.node(name=str(id(n)) + n._op, label=n._op)\n",
    "            dot.edge(str(id(n)) + n._op, str(id(n)))\n",
    "    \n",
    "    for n1, n2 in edges:\n",
    "        dot.edge(str(id(n1)), str(id(n2)) + n2._op)\n",
    "    \n",
    "    return dot"
   ]
  },
  {
   "cell_type": "code",
   "execution_count": 92,
   "metadata": {},
   "outputs": [],
   "source": [
    "L.grad = 1.0 # dL/dL = 1\n",
    "d.grad = f.data # dL/dd = f\n",
    "f.grad = d.data # dL/df = d\n",
    "e.grad = f.data # dL/de = dL/df * df/de = d * 1\n",
    "c.grad = f.data # dL/dc = dL/df * df/dc = d * 1\n",
    "a.grad = b.data*e.grad # dL/da = dL/de * de/da = e.grad * b\n",
    "b.grad = a.data*e.grad # dL/db = dL/de * de/db = e.grad * a"
   ]
  },
  {
   "cell_type": "code",
   "execution_count": 93,
   "metadata": {},
   "outputs": [
    {
     "data": {
      "image/svg+xml": [
       "<?xml version=\"1.0\" encoding=\"UTF-8\" standalone=\"no\"?>\n",
       "<!DOCTYPE svg PUBLIC \"-//W3C//DTD SVG 1.1//EN\"\n",
       " \"http://www.w3.org/Graphics/SVG/1.1/DTD/svg11.dtd\">\n",
       "<!-- Generated by graphviz version 12.1.0 (20240811.2233)\n",
       " -->\n",
       "<!-- Pages: 1 -->\n",
       "<svg width=\"1059pt\" height=\"156pt\"\n",
       " viewBox=\"0.00 0.00 1059.25 156.00\" xmlns=\"http://www.w3.org/2000/svg\" xmlns:xlink=\"http://www.w3.org/1999/xlink\">\n",
       "<g id=\"graph0\" class=\"graph\" transform=\"scale(1 1) rotate(0) translate(4 152)\">\n",
       "<polygon fill=\"white\" stroke=\"none\" points=\"-4,4 -4,-152 1055.25,-152 1055.25,4 -4,4\"/>\n",
       "<!-- 4945514608 -->\n",
       "<g id=\"node1\" class=\"node\">\n",
       "<title>4945514608</title>\n",
       "<polygon fill=\"none\" stroke=\"black\" points=\"4.5,-111.5 4.5,-147.5 165.5,-147.5 165.5,-111.5 4.5,-111.5\"/>\n",
       "<text text-anchor=\"middle\" x=\"44.38\" y=\"-124.7\" font-family=\"Times,serif\" font-size=\"14.00\">data 2.0000</text>\n",
       "<polyline fill=\"none\" stroke=\"black\" points=\"84.25,-112 84.25,-147.5\"/>\n",
       "<text text-anchor=\"middle\" x=\"124.88\" y=\"-124.7\" font-family=\"Times,serif\" font-size=\"14.00\">grad 6.0000</text>\n",
       "</g>\n",
       "<!-- 4945231216* -->\n",
       "<g id=\"node5\" class=\"node\">\n",
       "<title>4945231216*</title>\n",
       "<ellipse fill=\"none\" stroke=\"black\" cx=\"233\" cy=\"-101.5\" rx=\"27\" ry=\"18\"/>\n",
       "<text text-anchor=\"middle\" x=\"233\" y=\"-96.45\" font-family=\"Times,serif\" font-size=\"14.00\">*</text>\n",
       "</g>\n",
       "<!-- 4945514608&#45;&gt;4945231216* -->\n",
       "<g id=\"edge8\" class=\"edge\">\n",
       "<title>4945514608&#45;&gt;4945231216*</title>\n",
       "<path fill=\"none\" stroke=\"black\" d=\"M165.83,-114.19C176.11,-112.22 186.2,-110.28 195.29,-108.54\"/>\n",
       "<polygon fill=\"black\" stroke=\"black\" points=\"195.94,-111.98 205.1,-106.66 194.62,-105.1 195.94,-111.98\"/>\n",
       "</g>\n",
       "<!-- 4945513072 -->\n",
       "<g id=\"node2\" class=\"node\">\n",
       "<title>4945513072</title>\n",
       "<polygon fill=\"none\" stroke=\"black\" points=\"594.25,-0.5 594.25,-36.5 759.75,-36.5 759.75,-0.5 594.25,-0.5\"/>\n",
       "<text text-anchor=\"middle\" x=\"636.38\" y=\"-13.7\" font-family=\"Times,serif\" font-size=\"14.00\">data &#45;2.0000</text>\n",
       "<polyline fill=\"none\" stroke=\"black\" points=\"678.5,-1 678.5,-36.5\"/>\n",
       "<text text-anchor=\"middle\" x=\"719.12\" y=\"-13.7\" font-family=\"Times,serif\" font-size=\"14.00\">grad 4.0000</text>\n",
       "</g>\n",
       "<!-- 4945513408* -->\n",
       "<g id=\"node9\" class=\"node\">\n",
       "<title>4945513408*</title>\n",
       "<ellipse fill=\"none\" stroke=\"black\" cx=\"822.75\" cy=\"-45.5\" rx=\"27\" ry=\"18\"/>\n",
       "<text text-anchor=\"middle\" x=\"822.75\" y=\"-40.45\" font-family=\"Times,serif\" font-size=\"14.00\">*</text>\n",
       "</g>\n",
       "<!-- 4945513072&#45;&gt;4945513408* -->\n",
       "<g id=\"edge4\" class=\"edge\">\n",
       "<title>4945513072&#45;&gt;4945513408*</title>\n",
       "<path fill=\"none\" stroke=\"black\" d=\"M759.95,-33.89C768.75,-35.54 777.33,-37.16 785.17,-38.63\"/>\n",
       "<polygon fill=\"black\" stroke=\"black\" points=\"784.47,-42.06 794.95,-40.47 785.76,-35.18 784.47,-42.06\"/>\n",
       "</g>\n",
       "<!-- 4945515184 -->\n",
       "<g id=\"node3\" class=\"node\">\n",
       "<title>4945515184</title>\n",
       "<polygon fill=\"none\" stroke=\"black\" points=\"0,-56.5 0,-92.5 170,-92.5 170,-56.5 0,-56.5\"/>\n",
       "<text text-anchor=\"middle\" x=\"42.12\" y=\"-69.7\" font-family=\"Times,serif\" font-size=\"14.00\">data &#45;3.0000</text>\n",
       "<polyline fill=\"none\" stroke=\"black\" points=\"84.25,-57 84.25,-92.5\"/>\n",
       "<text text-anchor=\"middle\" x=\"127.12\" y=\"-69.7\" font-family=\"Times,serif\" font-size=\"14.00\">grad &#45;4.0000</text>\n",
       "</g>\n",
       "<!-- 4945515184&#45;&gt;4945231216* -->\n",
       "<g id=\"edge5\" class=\"edge\">\n",
       "<title>4945515184&#45;&gt;4945231216*</title>\n",
       "<path fill=\"none\" stroke=\"black\" d=\"M170.08,-90.05C178.92,-91.68 187.54,-93.28 195.4,-94.73\"/>\n",
       "<polygon fill=\"black\" stroke=\"black\" points=\"194.72,-98.17 205.19,-96.54 196,-91.28 194.72,-98.17\"/>\n",
       "</g>\n",
       "<!-- 4945231216 -->\n",
       "<g id=\"node4\" class=\"node\">\n",
       "<title>4945231216</title>\n",
       "<polygon fill=\"none\" stroke=\"black\" points=\"297.12,-83.5 297.12,-119.5 467.12,-119.5 467.12,-83.5 297.12,-83.5\"/>\n",
       "<text text-anchor=\"middle\" x=\"339.25\" y=\"-96.7\" font-family=\"Times,serif\" font-size=\"14.00\">data &#45;6.0000</text>\n",
       "<polyline fill=\"none\" stroke=\"black\" points=\"381.38,-84 381.38,-119.5\"/>\n",
       "<text text-anchor=\"middle\" x=\"424.25\" y=\"-96.7\" font-family=\"Times,serif\" font-size=\"14.00\">grad &#45;2.0000</text>\n",
       "</g>\n",
       "<!-- 4945516432+ -->\n",
       "<g id=\"node7\" class=\"node\">\n",
       "<title>4945516432+</title>\n",
       "<ellipse fill=\"none\" stroke=\"black\" cx=\"531.25\" cy=\"-73.5\" rx=\"27\" ry=\"18\"/>\n",
       "<text text-anchor=\"middle\" x=\"531.25\" y=\"-68.45\" font-family=\"Times,serif\" font-size=\"14.00\">+</text>\n",
       "</g>\n",
       "<!-- 4945231216&#45;&gt;4945516432+ -->\n",
       "<g id=\"edge7\" class=\"edge\">\n",
       "<title>4945231216&#45;&gt;4945516432+</title>\n",
       "<path fill=\"none\" stroke=\"black\" d=\"M467.43,-85.46C476.57,-83.72 485.49,-82.02 493.6,-80.47\"/>\n",
       "<polygon fill=\"black\" stroke=\"black\" points=\"494.18,-83.93 503.35,-78.62 492.88,-77.05 494.18,-83.93\"/>\n",
       "</g>\n",
       "<!-- 4945231216*&#45;&gt;4945231216 -->\n",
       "<g id=\"edge1\" class=\"edge\">\n",
       "<title>4945231216*&#45;&gt;4945231216</title>\n",
       "<path fill=\"none\" stroke=\"black\" d=\"M260.3,-101.5C267.77,-101.5 276.35,-101.5 285.44,-101.5\"/>\n",
       "<polygon fill=\"black\" stroke=\"black\" points=\"285.21,-105 295.21,-101.5 285.21,-98 285.21,-105\"/>\n",
       "</g>\n",
       "<!-- 4945516432 -->\n",
       "<g id=\"node6\" class=\"node\">\n",
       "<title>4945516432</title>\n",
       "<polygon fill=\"none\" stroke=\"black\" points=\"594.25,-55.5 594.25,-91.5 759.75,-91.5 759.75,-55.5 594.25,-55.5\"/>\n",
       "<text text-anchor=\"middle\" x=\"634.12\" y=\"-68.7\" font-family=\"Times,serif\" font-size=\"14.00\">data 4.0000</text>\n",
       "<polyline fill=\"none\" stroke=\"black\" points=\"674,-56 674,-91.5\"/>\n",
       "<text text-anchor=\"middle\" x=\"716.88\" y=\"-68.7\" font-family=\"Times,serif\" font-size=\"14.00\">grad &#45;2.0000</text>\n",
       "</g>\n",
       "<!-- 4945516432&#45;&gt;4945513408* -->\n",
       "<g id=\"edge6\" class=\"edge\">\n",
       "<title>4945516432&#45;&gt;4945513408*</title>\n",
       "<path fill=\"none\" stroke=\"black\" d=\"M759.95,-57.54C768.75,-55.82 777.33,-54.15 785.17,-52.62\"/>\n",
       "<polygon fill=\"black\" stroke=\"black\" points=\"785.8,-56.07 794.95,-50.72 784.46,-49.2 785.8,-56.07\"/>\n",
       "</g>\n",
       "<!-- 4945516432+&#45;&gt;4945516432 -->\n",
       "<g id=\"edge2\" class=\"edge\">\n",
       "<title>4945516432+&#45;&gt;4945516432</title>\n",
       "<path fill=\"none\" stroke=\"black\" d=\"M558.62,-73.5C565.72,-73.5 573.82,-73.5 582.39,-73.5\"/>\n",
       "<polygon fill=\"black\" stroke=\"black\" points=\"582.34,-77 592.34,-73.5 582.34,-70 582.34,-77\"/>\n",
       "</g>\n",
       "<!-- 4945513408 -->\n",
       "<g id=\"node8\" class=\"node\">\n",
       "<title>4945513408</title>\n",
       "<polygon fill=\"none\" stroke=\"black\" points=\"885.75,-27.5 885.75,-63.5 1051.25,-63.5 1051.25,-27.5 885.75,-27.5\"/>\n",
       "<text text-anchor=\"middle\" x=\"927.88\" y=\"-40.7\" font-family=\"Times,serif\" font-size=\"14.00\">data &#45;8.0000</text>\n",
       "<polyline fill=\"none\" stroke=\"black\" points=\"970,-28 970,-63.5\"/>\n",
       "<text text-anchor=\"middle\" x=\"1010.62\" y=\"-40.7\" font-family=\"Times,serif\" font-size=\"14.00\">grad 1.0000</text>\n",
       "</g>\n",
       "<!-- 4945513408*&#45;&gt;4945513408 -->\n",
       "<g id=\"edge3\" class=\"edge\">\n",
       "<title>4945513408*&#45;&gt;4945513408</title>\n",
       "<path fill=\"none\" stroke=\"black\" d=\"M850.12,-45.5C857.22,-45.5 865.32,-45.5 873.89,-45.5\"/>\n",
       "<polygon fill=\"black\" stroke=\"black\" points=\"873.84,-49 883.84,-45.5 873.84,-42 873.84,-49\"/>\n",
       "</g>\n",
       "<!-- 4945514992 -->\n",
       "<g id=\"node10\" class=\"node\">\n",
       "<title>4945514992</title>\n",
       "<polygon fill=\"none\" stroke=\"black\" points=\"296,-28.5 296,-64.5 468.25,-64.5 468.25,-28.5 296,-28.5\"/>\n",
       "<text text-anchor=\"middle\" x=\"339.25\" y=\"-41.7\" font-family=\"Times,serif\" font-size=\"14.00\">data 10.0000</text>\n",
       "<polyline fill=\"none\" stroke=\"black\" points=\"382.5,-29 382.5,-64.5\"/>\n",
       "<text text-anchor=\"middle\" x=\"425.38\" y=\"-41.7\" font-family=\"Times,serif\" font-size=\"14.00\">grad &#45;2.0000</text>\n",
       "</g>\n",
       "<!-- 4945514992&#45;&gt;4945516432+ -->\n",
       "<g id=\"edge9\" class=\"edge\">\n",
       "<title>4945514992&#45;&gt;4945516432+</title>\n",
       "<path fill=\"none\" stroke=\"black\" d=\"M468.71,-62.21C477.44,-63.81 485.94,-65.37 493.7,-66.79\"/>\n",
       "<polygon fill=\"black\" stroke=\"black\" points=\"492.88,-70.2 503.34,-68.56 494.14,-63.31 492.88,-70.2\"/>\n",
       "</g>\n",
       "</g>\n",
       "</svg>\n"
      ],
      "text/plain": [
       "<graphviz.graphs.Digraph at 0x126c6bcb0>"
      ]
     },
     "execution_count": 93,
     "metadata": {},
     "output_type": "execute_result"
    }
   ],
   "source": [
    "draw_dot(L)"
   ]
  },
  {
   "cell_type": "code",
   "execution_count": 94,
   "metadata": {},
   "outputs": [
    {
     "data": {
      "text/plain": [
       "Value(-7.286496)"
      ]
     },
     "execution_count": 94,
     "metadata": {},
     "output_type": "execute_result"
    }
   ],
   "source": [
    "a.data += a.grad * 0.01\n",
    "b.data += b.grad * 0.01\n",
    "c.data += c.grad * 0.01\n",
    "f.data += f.grad * 0.01\n",
    "\n",
    "e = a * b\n",
    "d = e + c\n",
    "L = d * f\n",
    "L"
   ]
  },
  {
   "cell_type": "code",
   "execution_count": null,
   "metadata": {},
   "outputs": [],
   "source": []
  }
 ],
 "metadata": {
  "kernelspec": {
   "display_name": "llm",
   "language": "python",
   "name": "python3"
  },
  "language_info": {
   "codemirror_mode": {
    "name": "ipython",
    "version": 3
   },
   "file_extension": ".py",
   "mimetype": "text/x-python",
   "name": "python",
   "nbconvert_exporter": "python",
   "pygments_lexer": "ipython3",
   "version": "3.12.4"
  }
 },
 "nbformat": 4,
 "nbformat_minor": 2
}
