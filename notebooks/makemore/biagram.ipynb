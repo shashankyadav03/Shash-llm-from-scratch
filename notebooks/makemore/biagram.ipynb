{
 "cells": [
  {
   "cell_type": "code",
   "execution_count": 39,
   "metadata": {},
   "outputs": [],
   "source": [
    "words = open('names.txt', 'r')"
   ]
  },
  {
   "cell_type": "code",
   "execution_count": 40,
   "metadata": {},
   "outputs": [],
   "source": [
    "words = words.read().splitlines()"
   ]
  },
  {
   "cell_type": "code",
   "execution_count": 41,
   "metadata": {},
   "outputs": [
    {
     "data": {
      "text/plain": [
       "['emma',\n",
       " 'olivia',\n",
       " 'ava',\n",
       " 'isabella',\n",
       " 'sophia',\n",
       " 'charlotte',\n",
       " 'mia',\n",
       " 'amelia',\n",
       " 'harper',\n",
       " 'evelyn']"
      ]
     },
     "execution_count": 41,
     "metadata": {},
     "output_type": "execute_result"
    }
   ],
   "source": [
    "words[:10]"
   ]
  },
  {
   "cell_type": "code",
   "execution_count": 42,
   "metadata": {},
   "outputs": [
    {
     "data": {
      "text/plain": [
       "32033"
      ]
     },
     "execution_count": 42,
     "metadata": {},
     "output_type": "execute_result"
    }
   ],
   "source": [
    "len(words)"
   ]
  },
  {
   "cell_type": "markdown",
   "metadata": {},
   "source": [
    "# Designing biagram model"
   ]
  },
  {
   "cell_type": "code",
   "execution_count": 43,
   "metadata": {},
   "outputs": [],
   "source": [
    "b = {}\n",
    "for word in words:\n",
    "    chrr = ['<s>'] + list(word) + ['<e>']\n",
    "    for ch1, ch2 in zip(chrr, chrr[1:]):\n",
    "        biagram = (ch1, ch2)\n",
    "        b[biagram] = b.get(biagram, 0) + 1\n",
    "        # print(ch1, ch2)"
   ]
  },
  {
   "cell_type": "code",
   "execution_count": 44,
   "metadata": {},
   "outputs": [
    {
     "data": {
      "text/plain": [
       "627"
      ]
     },
     "execution_count": 44,
     "metadata": {},
     "output_type": "execute_result"
    }
   ],
   "source": [
    "len(b)"
   ]
  },
  {
   "cell_type": "code",
   "execution_count": 45,
   "metadata": {},
   "outputs": [],
   "source": [
    "# sorted(b.items(), key=lambda x: x[1], reverse=True)"
   ]
  },
  {
   "cell_type": "code",
   "execution_count": 46,
   "metadata": {},
   "outputs": [],
   "source": [
    "import torch"
   ]
  },
  {
   "cell_type": "code",
   "execution_count": 47,
   "metadata": {},
   "outputs": [],
   "source": [
    "N = torch.zeros((28, 28), dtype=torch.int32)"
   ]
  },
  {
   "cell_type": "code",
   "execution_count": null,
   "metadata": {},
   "outputs": [],
   "source": []
  },
  {
   "cell_type": "code",
   "execution_count": 48,
   "metadata": {},
   "outputs": [],
   "source": [
    "for word in words:\n",
    "    chrr = ['S'] + list(word) + ['E']\n",
    "    for ch1, ch2 in zip(chrr, chrr[1:]):\n",
    "        if ch1 == 'S':\n",
    "            N[26, ord(ch2) - ord('a')] += 1\n",
    "        elif ch2 == 'E':\n",
    "            N[ord(ch1) - ord('a'), 27] += 1\n",
    "        else:\n",
    "            N[ord(ch1) - ord('a'), ord(ch2) - ord('a')] += 1"
   ]
  },
  {
   "cell_type": "code",
   "execution_count": 49,
   "metadata": {},
   "outputs": [
    {
     "data": {
      "text/plain": [
       "tensor([[ 556,  541,  470, 1042,  692,  134,  168, 2332, 1650,  175,  568, 2528,\n",
       "         1634, 5438,   63,   82,   60, 3264, 1118,  687,  381,  834,  161,  182,\n",
       "         2050,  435,    0, 6640],\n",
       "        [ 321,   38,    1,   65,  655,    0,    0,   41,  217,    1,    0,  103,\n",
       "            0,    4,  105,    0,    0,  842,    8,    2,   45,    0,    0,    0,\n",
       "           83,    0,    0,  114],\n",
       "        [ 815,    0,   42,    1,  551,    0,    2,  664,  271,    3,  316,  116,\n",
       "            0,    0,  380,    1,   11,   76,    5,   35,   35,    0,    0,    3,\n",
       "          104,    4,    0,   97],\n",
       "        [1303,    1,    3,  149, 1283,    5,   25,  118,  674,    9,    3,   60,\n",
       "           30,   31,  378,    0,    1,  424,   29,    4,   92,   17,   23,    0,\n",
       "          317,    1,    0,  516],\n",
       "        [ 679,  121,  153,  384, 1271,   82,  125,  152,  818,   55,  178, 3248,\n",
       "          769, 2675,  269,   83,   14, 1958,  861,  580,   69,  463,   50,  132,\n",
       "         1070,  181,    0, 3983],\n",
       "        [ 242,    0,    0,    0,  123,   44,    1,    1,  160,    0,    2,   20,\n",
       "            0,    4,   60,    0,    0,  114,    6,   18,   10,    0,    4,    0,\n",
       "           14,    2,    0,   80],\n",
       "        [ 330,    3,    0,   19,  334,    1,   25,  360,  190,    3,    0,   32,\n",
       "            6,   27,   83,    0,    0,  201,   30,   31,   85,    1,   26,    0,\n",
       "           31,    1,    0,  108],\n",
       "        [2244,    8,    2,   24,  674,    2,    2,    1,  729,    9,   29,  185,\n",
       "          117,  138,  287,    1,    1,  204,   31,   71,  166,   39,   10,    0,\n",
       "          213,   20,    0, 2409],\n",
       "        [2445,  110,  509,  440, 1653,  101,  428,   95,   82,   76,  445, 1345,\n",
       "          427, 2126,  588,   53,   52,  849, 1316,  541,  109,  269,    8,   89,\n",
       "          779,  277,    0, 2489],\n",
       "        [1473,    1,    4,    4,  440,    0,    0,   45,  119,    2,    2,    9,\n",
       "            5,    2,  479,    1,    0,   11,    7,    2,  202,    5,    6,    0,\n",
       "           10,    0,    0,   71],\n",
       "        [1731,    2,    2,    2,  895,    1,    0,  307,  509,    2,   20,  139,\n",
       "            9,   26,  344,    0,    0,  109,   95,   17,   50,    2,   34,    0,\n",
       "          379,    2,    0,  363],\n",
       "        [2623,   52,   25,  138, 2921,   22,    6,   19, 2480,    6,   24, 1345,\n",
       "           60,   14,  692,   15,    3,   18,   94,   77,  324,   72,   16,    0,\n",
       "         1588,   10,    0, 1314],\n",
       "        [2590,  112,   51,   24,  818,    1,    0,    5, 1256,    7,    1,    5,\n",
       "          168,   20,  452,   38,    0,   97,   35,    4,  139,    3,    2,    0,\n",
       "          287,   11,    0,  516],\n",
       "        [2977,    8,  213,  704, 1359,   11,  273,   26, 1725,   44,   58,  195,\n",
       "           19, 1906,  496,    5,    2,   44,  278,  443,   96,   55,   11,    6,\n",
       "          465,  145,    0, 6763],\n",
       "        [ 149,  140,  114,  190,  132,   34,   44,  171,   69,   16,   68,  619,\n",
       "          261, 2411,  115,   95,    3, 1059,  504,  118,  275,  176,  114,   45,\n",
       "          103,   54,    0,  855],\n",
       "        [ 209,    2,    1,    0,  197,    1,    0,  204,   61,    1,    1,   16,\n",
       "            1,    1,   59,   39,    0,  151,   16,   17,    4,    0,    0,    0,\n",
       "           12,    0,    0,   33],\n",
       "        [  13,    0,    0,    0,    1,    0,    0,    0,   13,    0,    0,    1,\n",
       "            2,    0,    2,    0,    0,    1,    2,    0,  206,    0,    3,    0,\n",
       "            0,    0,    0,   28],\n",
       "        [2356,   41,   99,  187, 1697,    9,   76,  121, 3033,   25,   90,  413,\n",
       "          162,  140,  869,   14,   16,  425,  190,  208,  252,   80,   21,    3,\n",
       "          773,   23,    0, 1377],\n",
       "        [1201,   21,   60,    9,  884,    2,    2, 1285,  684,    2,   82,  279,\n",
       "           90,   24,  531,   51,    1,   55,  461,  765,  185,   14,   24,    0,\n",
       "          215,   10,    0, 1169],\n",
       "        [1027,    1,   17,    0,  716,    2,    2,  647,  532,    3,    0,  134,\n",
       "            4,   22,  667,    0,    0,  352,   35,  374,   78,   15,   11,    2,\n",
       "          341,  105,    0,  483],\n",
       "        [ 163,  103,  103,  136,  169,   19,   47,   58,  121,   14,   93,  301,\n",
       "          154,  275,   10,   16,   10,  414,  474,   82,    3,   37,   86,   34,\n",
       "           13,   45,    0,  155],\n",
       "        [ 642,    1,    0,    1,  568,    0,    0,    1,  911,    0,    3,   14,\n",
       "            0,    8,  153,    0,    0,   48,    0,    0,    7,    7,    0,    0,\n",
       "          121,    0,    0,   88],\n",
       "        [ 280,    1,    0,    8,  149,    2,    1,   23,  148,    0,    6,   13,\n",
       "            2,   58,   36,    0,    0,   22,   20,    8,   25,    0,    2,    0,\n",
       "           73,    1,    0,   51],\n",
       "        [ 103,    1,    4,    5,   36,    3,    0,    1,  102,    0,    0,   39,\n",
       "            1,    1,   41,    0,    0,    0,   31,   70,    5,    0,    3,   38,\n",
       "           30,   19,    0,  164],\n",
       "        [2143,   27,  115,  272,  301,   12,   30,   22,  192,   23,   86, 1104,\n",
       "          148, 1826,  271,   15,    6,  291,  401,  104,  141,  106,    4,   28,\n",
       "           23,   78,    0, 2007],\n",
       "        [ 860,    4,    2,    2,  373,    0,    1,   43,  364,    2,    2,  123,\n",
       "           35,    4,  110,    2,    0,   32,    4,    4,   73,    2,    3,    1,\n",
       "          147,   45,    0,  160],\n",
       "        [4410, 1306, 1542, 1690, 1531,  417,  669,  874,  591, 2422, 2963, 1572,\n",
       "         2538, 1146,  394,  515,   92, 1639, 2055, 1308,   78,  376,  307,  134,\n",
       "          535,  929,    0,    0],\n",
       "        [   0,    0,    0,    0,    0,    0,    0,    0,    0,    0,    0,    0,\n",
       "            0,    0,    0,    0,    0,    0,    0,    0,    0,    0,    0,    0,\n",
       "            0,    0,    0,    0]], dtype=torch.int32)"
      ]
     },
     "execution_count": 49,
     "metadata": {},
     "output_type": "execute_result"
    }
   ],
   "source": [
    "N"
   ]
  },
  {
   "cell_type": "code",
   "execution_count": 50,
   "metadata": {},
   "outputs": [],
   "source": [
    "import matplotlib.pyplot as plt\n",
    "%matplotlib inline"
   ]
  },
  {
   "cell_type": "code",
   "execution_count": 51,
   "metadata": {},
   "outputs": [
    {
     "data": {
      "image/png": "[encoded data removed]",
      "text/plain": [
       "<Figure size 640x480 with 2 Axes>"
      ]
     },
     "metadata": {},
     "output_type": "display_data"
    }
   ],
   "source": [
    "# Show N visually good\n",
    "plt.imshow(N, origin='upper')\n",
    "plt.colorbar()\n",
    "plt.show()"
   ]
  },
  {
   "cell_type": "code",
   "execution_count": 52,
   "metadata": {},
   "outputs": [
    {
     "data": {
      "text/plain": [
       "tensor([ 556,  541,  470, 1042,  692,  134,  168, 2332, 1650,  175,  568, 2528,\n",
       "        1634, 5438,   63,   82,   60, 3264, 1118,  687,  381,  834,  161,  182,\n",
       "        2050,  435,    0, 6640], dtype=torch.int32)"
      ]
     },
     "execution_count": 52,
     "metadata": {},
     "output_type": "execute_result"
    }
   ],
   "source": [
    "N[0,:]"
   ]
  },
  {
   "cell_type": "code",
   "execution_count": 53,
   "metadata": {},
   "outputs": [],
   "source": [
    "# Create Probability Matrix\n",
    "P = torch.zeros_like(N, dtype=torch.float)"
   ]
  },
  {
   "cell_type": "code",
   "execution_count": 54,
   "metadata": {},
   "outputs": [],
   "source": [
    "P = (N+2) / N.sum(dim=1, keepdim=True)"
   ]
  },
  {
   "cell_type": "code",
   "execution_count": 55,
   "metadata": {},
   "outputs": [
    {
     "data": {
      "text/plain": [
       "tensor([1.6467e-02, 1.6025e-02, 1.3929e-02, 3.0810e-02, 2.0481e-02, 4.0136e-03,\n",
       "        5.0170e-03, 6.8880e-02, 4.8753e-02, 5.2236e-03, 1.6822e-02, 7.4664e-02,\n",
       "        4.8281e-02, 1.6054e-01, 1.9183e-03, 2.4790e-03, 1.8297e-03, 9.6385e-02,\n",
       "        3.3053e-02, 2.0333e-02, 1.1303e-02, 2.4672e-02, 4.8104e-03, 5.4301e-03,\n",
       "        6.0558e-02, 1.2897e-02, 5.9023e-05, 1.9602e-01])"
      ]
     },
     "execution_count": 55,
     "metadata": {},
     "output_type": "execute_result"
    }
   ],
   "source": [
    "P[0,:]"
   ]
  },
  {
   "cell_type": "code",
   "execution_count": 56,
   "metadata": {},
   "outputs": [
    {
     "data": {
      "text/plain": [
       "<matplotlib.image.AxesImage at 0x107acb6e0>"
      ]
     },
     "execution_count": 56,
     "metadata": {},
     "output_type": "execute_result"
    },
    {
     "data": {
      "image/png": "[encoded data removed]",
      "text/plain": [
       "<Figure size 640x480 with 1 Axes>"
      ]
     },
     "metadata": {},
     "output_type": "display_data"
    }
   ],
   "source": [
    "# Show P visually good\n",
    "plt.imshow(P, origin='upper')"
   ]
  },
  {
   "cell_type": "code",
   "execution_count": 57,
   "metadata": {},
   "outputs": [
    {
     "name": "stdout",
     "output_type": "stream",
     "text": [
      "yneeraipahron\n",
      "nn\n",
      "enaetayn\n",
      "\n",
      "tikon\n",
      "ba\n",
      "yallarale\n",
      "iahohelielelaiusananeat\n",
      "no\n",
      "nora\n"
     ]
    }
   ],
   "source": [
    "g = torch.Generator().manual_seed(42)\n",
    "for i in range(10):\n",
    "    out = []\n",
    "    ix = 0\n",
    "    while ix != 27:\n",
    "        ix = torch.multinomial(P[ix], 1, replacement=True, generator=g).item()\n",
    "        if ix == 27:\n",
    "            break\n",
    "        elif ix == 26:\n",
    "            out.append(' ')\n",
    "        else:\n",
    "            current_char = chr(ix + ord('a'))  # Convert index to corresponding character\n",
    "            out.append(current_char)\n",
    "    \n",
    "    # Join the characters in the output list to form a string\n",
    "    generated_string = ''.join(out)\n",
    "    print(generated_string)\n",
    "\n"
   ]
  },
  {
   "cell_type": "markdown",
   "metadata": {},
   "source": [
    "# Goal:  maximize likelihood of the training data wrt the model parameters\n",
    "# Equivalently: minimize the negative log likelihood\n",
    "# Equivalently: minimize the loss function that is the avaerage negative log likelihood"
   ]
  },
  {
   "cell_type": "code",
   "execution_count": 61,
   "metadata": {},
   "outputs": [
    {
     "name": "stdout",
     "output_type": "stream",
     "text": [
      "Log Likelihood of the words is -558743.88\n",
      "Negative Log Likelihood of the  words is 558743.88\n",
      "Averaged Negative Log Likelihood of the words is 2.45\n"
     ]
    }
   ],
   "source": [
    "log_likelihood = 0.0 # More negative the number, weaker the model\n",
    "n=0\n",
    "for word in words:\n",
    "    chrr = ['<s>'] + list(word) + ['<e>']\n",
    "    for ch1, ch2 in zip(chrr, chrr[1:]):\n",
    "        if ch1 == '<s>':\n",
    "            prob = P[26, ord(ch2) - ord('a')]\n",
    "        elif ch2 == '<e>':\n",
    "            prob = P[ord(ch1) - ord('a'), 27]\n",
    "        else:\n",
    "            prob = P[ord(ch1) - ord('a'), ord(ch2) - ord('a')]\n",
    "        n+=1\n",
    "        desired_prob = 1.0/28\n",
    "        log_prob = torch.log(prob)\n",
    "        log_likelihood += log_prob\n",
    "        # print(f'P({ch1}|{ch2}) in % is {prob * 100:.2f} {prob > desired_prob}, log_prob is {log_prob:.2f}')\n",
    "        # print(ch1, ch2)\n",
    "print(f'Log Likelihood of the words is {log_likelihood:.2f}')\n",
    "negative_log_likelihood = -log_likelihood\n",
    "print(f'Negative Log Likelihood of the  words is {negative_log_likelihood:.2f}')\n",
    "print(f'Averaged Negative Log Likelihood of the words is {negative_log_likelihood/n:.2f}') #Loss Function"
   ]
  },
  {
   "cell_type": "code",
   "execution_count": 62,
   "metadata": {},
   "outputs": [
    {
     "name": "stdout",
     "output_type": "stream",
     "text": [
      "P(<s>|S) in % is 1.24 False, log_prob is -4.39\n",
      "P(S|h) in % is 2.18 False, log_prob is -3.83\n",
      "P(h|a) in % is 29.49 True, log_prob is -1.22\n",
      "P(a|s) in % is 3.31 False, log_prob is -3.41\n",
      "P(s|h) in % is 15.88 True, log_prob is -1.84\n",
      "P(h|a) in % is 29.49 True, log_prob is -1.22\n",
      "P(a|n) in % is 16.05 True, log_prob is -1.83\n",
      "P(n|k) in % is 0.33 False, log_prob is -5.72\n",
      "P(k|j) in % is 0.08 False, log_prob is -7.14\n",
      "P(j|q) in % is 0.07 False, log_prob is -7.28\n",
      "P(q|<e>) in % is 11.03 True, log_prob is -2.20\n",
      "Log Likelihood of the first 3 words is -40.08\n",
      "Negative Log Likelihood of the first 3 words is 40.08\n",
      "Averaged Negative Log Likelihood of the words is 3.64\n"
     ]
    }
   ],
   "source": [
    "log_likelihood = 0.0 # More negative the number, weaker the model\n",
    "n=0\n",
    "for word in [\"Shashank\"]:\n",
    "    chrr = ['<s>'] + list(word) + ['<e>']\n",
    "    for ch1, ch2 in zip(chrr, chrr[1:]):\n",
    "        if ch1 == '<s>':\n",
    "            prob = P[26, ord(ch2) - ord('a')]\n",
    "        elif ch2 == '<e>':\n",
    "            prob = P[ord(ch1) - ord('a'), 27]\n",
    "        else:\n",
    "            prob = P[ord(ch1) - ord('a'), ord(ch2) - ord('a')]\n",
    "        n+=1\n",
    "        desired_prob = 1.0/28\n",
    "        log_prob = torch.log(prob)\n",
    "        log_likelihood += log_prob\n",
    "        print(f'P({ch1}|{ch2}) in % is {prob * 100:.2f} {prob > desired_prob}, log_prob is {log_prob:.2f}')\n",
    "        # print(ch1, ch2)\n",
    "print(f'Log Likelihood of the first 3 words is {log_likelihood:.2f}')\n",
    "negative_log_likelihood = -log_likelihood\n",
    "print(f'Negative Log Likelihood of the first 3 words is {negative_log_likelihood:.2f}')\n",
    "print(f'Averaged Negative Log Likelihood of the words is {negative_log_likelihood/n:.2f}') #Loss Function"
   ]
  },
  {
   "cell_type": "code",
   "execution_count": null,
   "metadata": {},
   "outputs": [],
   "source": []
  }
 ],
 "metadata": {
  "kernelspec": {
   "display_name": "llm",
   "language": "python",
   "name": "python3"
  },
  "language_info": {
   "codemirror_mode": {
    "name": "ipython",
    "version": 3
   },
   "file_extension": ".py",
   "mimetype": "text/x-python",
   "name": "python",
   "nbconvert_exporter": "python",
   "pygments_lexer": "ipython3",
   "version": "3.12.5"
  }
 },
 "nbformat": 4,
 "nbformat_minor": 2
}
